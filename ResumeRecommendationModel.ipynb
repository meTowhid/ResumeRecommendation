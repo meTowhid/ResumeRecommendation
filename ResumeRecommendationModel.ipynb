{
 "cells": [
  {
   "cell_type": "code",
   "execution_count": 99,
   "metadata": {},
   "outputs": [],
   "source": [
    "import numpy as np\n",
    "import pandas as pd\n",
    "import scipy\n",
    "import matplotlib.pyplot as plt\n",
    "import seaborn as sns\n",
    "\n",
    "\n",
    "sns.set()\n",
    "import warnings \n",
    "warnings.filterwarnings('ignore')\n",
    "\n",
    "%matplotlib inline"
   ]
  },
  {
   "cell_type": "markdown",
   "metadata": {},
   "source": [
    "### Automatic CV recommendations system  \n",
    "\n",
    "#### CV recommendations system: \n",
    "Recruiting is an important function in the process of human resource management, as  employee  is  seen  as  the  more  important  ones  from  the  factors  of  production. The recruiting  of  the  appropriate  person  is  a  challenge  faced by most  companies,  as well  as  the  unavailability  of  certain  candidates  in  some  skill  areas  has  long  been identified  as  a  major  obstacle  to companies’succes. \n",
    "\n",
    "#### Our goal:  \n",
    "Our goal is making automatic resume recomandation sytem using Machine Learning. We analysis more than 600 resumes for this purpose. \n"
   ]
  },
  {
   "cell_type": "markdown",
   "metadata": {},
   "source": [
    "### Load the dataset"
   ]
  },
  {
   "cell_type": "code",
   "execution_count": 100,
   "metadata": {},
   "outputs": [
    {
     "data": {
      "text/html": [
       "<div>\n",
       "<style scoped>\n",
       "    .dataframe tbody tr th:only-of-type {\n",
       "        vertical-align: middle;\n",
       "    }\n",
       "\n",
       "    .dataframe tbody tr th {\n",
       "        vertical-align: top;\n",
       "    }\n",
       "\n",
       "    .dataframe thead th {\n",
       "        text-align: right;\n",
       "    }\n",
       "</style>\n",
       "<table border=\"1\" class=\"dataframe\">\n",
       "  <thead>\n",
       "    <tr style=\"text-align: right;\">\n",
       "      <th></th>\n",
       "      <th>name</th>\n",
       "      <th>age</th>\n",
       "      <th>address</th>\n",
       "      <th>mobile</th>\n",
       "      <th>photo</th>\n",
       "      <th>university</th>\n",
       "      <th>degree</th>\n",
       "      <th>currentOffice</th>\n",
       "      <th>experience</th>\n",
       "      <th>designation</th>\n",
       "      <th>salary</th>\n",
       "      <th>matchingScore</th>\n",
       "    </tr>\n",
       "  </thead>\n",
       "  <tbody>\n",
       "    <tr>\n",
       "      <th>0</th>\n",
       "      <td>Md. Sanoar Hossain</td>\n",
       "      <td>50.4</td>\n",
       "      <td>Cantonment, Dhaka</td>\n",
       "      <td>01728165215, 01766900784</td>\n",
       "      <td>https://my.bdjobs.com/photos/1050001-1075000/4...</td>\n",
       "      <td>Rajshahi University</td>\n",
       "      <td>M.Com.(Accounting)</td>\n",
       "      <td>Sisal  Composite  Ltd</td>\n",
       "      <td>21</td>\n",
       "      <td>accountant</td>\n",
       "      <td>60000</td>\n",
       "      <td>100</td>\n",
       "    </tr>\n",
       "    <tr>\n",
       "      <th>1</th>\n",
       "      <td>Shifa Saleheen, (CACC +500, IELTS 7.5)</td>\n",
       "      <td>28.8</td>\n",
       "      <td>Mirpur, Dhaka</td>\n",
       "      <td>01913907867, 01770256686</td>\n",
       "      <td>https://my.bdjobs.com/photos/825001-850000/348...</td>\n",
       "      <td>Jahangirnagar University</td>\n",
       "      <td>Master of Science</td>\n",
       "      <td>Mir Group of Companies</td>\n",
       "      <td>7</td>\n",
       "      <td>accountant</td>\n",
       "      <td>50000</td>\n",
       "      <td>100</td>\n",
       "    </tr>\n",
       "    <tr>\n",
       "      <th>2</th>\n",
       "      <td>MD.O.A.KIBRIA KAMAL</td>\n",
       "      <td>28.1</td>\n",
       "      <td>Khilgaon, Dhaka</td>\n",
       "      <td>01718372603</td>\n",
       "      <td>https://my.bdjobs.com/photos/1425001-1450000/5...</td>\n",
       "      <td>Anglia Ruskin University</td>\n",
       "      <td>BA (Honors) Business (Finance)</td>\n",
       "      <td>Energypac Power Generation Limited</td>\n",
       "      <td>7</td>\n",
       "      <td>accountant</td>\n",
       "      <td>40000</td>\n",
       "      <td>100</td>\n",
       "    </tr>\n",
       "    <tr>\n",
       "      <th>3</th>\n",
       "      <td>Naimul Bari</td>\n",
       "      <td>31.3</td>\n",
       "      <td>Ramna, Dhaka</td>\n",
       "      <td>01816501074, 01816501074</td>\n",
       "      <td>https://my.bdjobs.com/photos/800001-825000/338...</td>\n",
       "      <td>Stamford University Bangladesh</td>\n",
       "      <td>Master of Business Administration (M.B.A)</td>\n",
       "      <td>Tamijuddin Textile Mills Limited</td>\n",
       "      <td>4</td>\n",
       "      <td>accountant</td>\n",
       "      <td>45000</td>\n",
       "      <td>100</td>\n",
       "    </tr>\n",
       "    <tr>\n",
       "      <th>4</th>\n",
       "      <td>Subhra Chandra Deb</td>\n",
       "      <td>32.9</td>\n",
       "      <td>Narsingdi Sadar, Narsingdi</td>\n",
       "      <td>01790082088</td>\n",
       "      <td>https://my.bdjobs.com/photos/925001-950000/389...</td>\n",
       "      <td>National University</td>\n",
       "      <td>M.B.S</td>\n",
       "      <td>Britex sportswear limited</td>\n",
       "      <td>7</td>\n",
       "      <td>accountant</td>\n",
       "      <td>35000</td>\n",
       "      <td>100</td>\n",
       "    </tr>\n",
       "  </tbody>\n",
       "</table>\n",
       "</div>"
      ],
      "text/plain": [
       "                                     name   age                     address  \\\n",
       "0                      Md. Sanoar Hossain  50.4           Cantonment, Dhaka   \n",
       "1  Shifa Saleheen, (CACC +500, IELTS 7.5)  28.8               Mirpur, Dhaka   \n",
       "2                     MD.O.A.KIBRIA KAMAL  28.1             Khilgaon, Dhaka   \n",
       "3                             Naimul Bari  31.3                Ramna, Dhaka   \n",
       "4                      Subhra Chandra Deb  32.9  Narsingdi Sadar, Narsingdi   \n",
       "\n",
       "                     mobile  \\\n",
       "0  01728165215, 01766900784   \n",
       "1  01913907867, 01770256686   \n",
       "2               01718372603   \n",
       "3  01816501074, 01816501074   \n",
       "4               01790082088   \n",
       "\n",
       "                                               photo  \\\n",
       "0  https://my.bdjobs.com/photos/1050001-1075000/4...   \n",
       "1  https://my.bdjobs.com/photos/825001-850000/348...   \n",
       "2  https://my.bdjobs.com/photos/1425001-1450000/5...   \n",
       "3  https://my.bdjobs.com/photos/800001-825000/338...   \n",
       "4  https://my.bdjobs.com/photos/925001-950000/389...   \n",
       "\n",
       "                       university                                     degree  \\\n",
       "0             Rajshahi University                         M.Com.(Accounting)   \n",
       "1        Jahangirnagar University                          Master of Science   \n",
       "2        Anglia Ruskin University             BA (Honors) Business (Finance)   \n",
       "3  Stamford University Bangladesh  Master of Business Administration (M.B.A)   \n",
       "4             National University                                      M.B.S   \n",
       "\n",
       "                        currentOffice  experience designation  salary  \\\n",
       "0               Sisal  Composite  Ltd          21  accountant   60000   \n",
       "1              Mir Group of Companies           7  accountant   50000   \n",
       "2  Energypac Power Generation Limited           7  accountant   40000   \n",
       "3    Tamijuddin Textile Mills Limited           4  accountant   45000   \n",
       "4           Britex sportswear limited           7  accountant   35000   \n",
       "\n",
       "   matchingScore  \n",
       "0            100  \n",
       "1            100  \n",
       "2            100  \n",
       "3            100  \n",
       "4            100  "
      ]
     },
     "execution_count": 100,
     "metadata": {},
     "output_type": "execute_result"
    }
   ],
   "source": [
    "df = pd.read_excel('dataset.xlsx', index=False)\n",
    "df.head()"
   ]
  },
  {
   "cell_type": "code",
   "execution_count": 101,
   "metadata": {},
   "outputs": [
    {
     "data": {
      "text/plain": [
       "(3281, 12)"
      ]
     },
     "execution_count": 101,
     "metadata": {},
     "output_type": "execute_result"
    }
   ],
   "source": [
    "df.shape # Shape of the data"
   ]
  },
  {
   "cell_type": "markdown",
   "metadata": {},
   "source": [
    "### Exploratory Data Analysis\n",
    "\n",
    "#### Variable Identification \n",
    "* $name$ = Name of the job holder. \n",
    "* $age$ = age \n",
    "* $university$ = University name\n",
    "* $degree$ = Study subject\n",
    "* $currentOffice$ = Previous company name where he worked as employee\n",
    "* $experience$ = How many years of job experience? \n",
    "* $salary$ = Previous salary \n",
    "* $matchingScore$ = Percentage of getting jobs (target column)"
   ]
  },
  {
   "cell_type": "markdown",
   "metadata": {},
   "source": [
    "#### Overview of Numerical and Categorical Columns "
   ]
  },
  {
   "cell_type": "code",
   "execution_count": 102,
   "metadata": {},
   "outputs": [
    {
     "name": "stdout",
     "output_type": "stream",
     "text": [
      "\n",
      "No of columns: 12\n",
      "No of rows: 3281\n",
      "No of categorical columns: 8\n",
      "No of numerical columns: 4\n"
     ]
    }
   ],
   "source": [
    "print(\"\"\"\n",
    "No of columns: {}\n",
    "No of rows: {}\n",
    "No of categorical columns: {}\n",
    "No of numerical columns: {}\"\"\".format(df.shape[1], \n",
    "                                      df.shape[0],\n",
    "                                      len(df.select_dtypes('O').columns),\n",
    "                                      len(df.select_dtypes(['int64', 'float64']).columns)))"
   ]
  },
  {
   "cell_type": "markdown",
   "metadata": {},
   "source": [
    "#### Brief Summary of a DataFrame"
   ]
  },
  {
   "cell_type": "code",
   "execution_count": 103,
   "metadata": {},
   "outputs": [
    {
     "name": "stdout",
     "output_type": "stream",
     "text": [
      "<class 'pandas.core.frame.DataFrame'>\n",
      "RangeIndex: 3281 entries, 0 to 3280\n",
      "Data columns (total 12 columns):\n",
      "name             3281 non-null object\n",
      "age              3281 non-null float64\n",
      "address          3248 non-null object\n",
      "mobile           3280 non-null object\n",
      "photo            3281 non-null object\n",
      "university       3281 non-null object\n",
      "degree           3281 non-null object\n",
      "currentOffice    3051 non-null object\n",
      "experience       3281 non-null int64\n",
      "designation      3281 non-null object\n",
      "salary           3281 non-null int64\n",
      "matchingScore    3281 non-null int64\n",
      "dtypes: float64(1), int64(3), object(8)\n",
      "memory usage: 307.7+ KB\n"
     ]
    }
   ],
   "source": [
    "df.info()"
   ]
  },
  {
   "cell_type": "markdown",
   "metadata": {},
   "source": [
    "### catagerocial + numberical column differentiate "
   ]
  },
  {
   "cell_type": "code",
   "execution_count": 104,
   "metadata": {},
   "outputs": [],
   "source": [
    "categorical_cols = ['university', 'degree', 'currentOffice', 'designation']\n",
    "numerical_col = ['age', 'experience', 'salary']"
   ]
  },
  {
   "cell_type": "markdown",
   "metadata": {},
   "source": [
    "#### Statistical view of Numerical Columns"
   ]
  },
  {
   "cell_type": "code",
   "execution_count": 105,
   "metadata": {},
   "outputs": [
    {
     "data": {
      "text/html": [
       "<div>\n",
       "<style scoped>\n",
       "    .dataframe tbody tr th:only-of-type {\n",
       "        vertical-align: middle;\n",
       "    }\n",
       "\n",
       "    .dataframe tbody tr th {\n",
       "        vertical-align: top;\n",
       "    }\n",
       "\n",
       "    .dataframe thead th {\n",
       "        text-align: right;\n",
       "    }\n",
       "</style>\n",
       "<table border=\"1\" class=\"dataframe\">\n",
       "  <thead>\n",
       "    <tr style=\"text-align: right;\">\n",
       "      <th></th>\n",
       "      <th>count</th>\n",
       "      <th>mean</th>\n",
       "      <th>std</th>\n",
       "      <th>min</th>\n",
       "      <th>25%</th>\n",
       "      <th>50%</th>\n",
       "      <th>75%</th>\n",
       "      <th>max</th>\n",
       "    </tr>\n",
       "  </thead>\n",
       "  <tbody>\n",
       "    <tr>\n",
       "      <th>age</th>\n",
       "      <td>3281.0</td>\n",
       "      <td>31.035050</td>\n",
       "      <td>6.287937</td>\n",
       "      <td>17.8</td>\n",
       "      <td>26.7</td>\n",
       "      <td>29.8</td>\n",
       "      <td>33.9</td>\n",
       "      <td>69.5</td>\n",
       "    </tr>\n",
       "    <tr>\n",
       "      <th>experience</th>\n",
       "      <td>3281.0</td>\n",
       "      <td>6.037793</td>\n",
       "      <td>5.241117</td>\n",
       "      <td>0.0</td>\n",
       "      <td>2.0</td>\n",
       "      <td>5.0</td>\n",
       "      <td>8.0</td>\n",
       "      <td>38.0</td>\n",
       "    </tr>\n",
       "    <tr>\n",
       "      <th>salary</th>\n",
       "      <td>3281.0</td>\n",
       "      <td>38136.797318</td>\n",
       "      <td>38659.467106</td>\n",
       "      <td>0.0</td>\n",
       "      <td>20000.0</td>\n",
       "      <td>30000.0</td>\n",
       "      <td>45000.0</td>\n",
       "      <td>999000.0</td>\n",
       "    </tr>\n",
       "  </tbody>\n",
       "</table>\n",
       "</div>"
      ],
      "text/plain": [
       "             count          mean           std   min      25%      50%  \\\n",
       "age         3281.0     31.035050      6.287937  17.8     26.7     29.8   \n",
       "experience  3281.0      6.037793      5.241117   0.0      2.0      5.0   \n",
       "salary      3281.0  38136.797318  38659.467106   0.0  20000.0  30000.0   \n",
       "\n",
       "                75%       max  \n",
       "age            33.9      69.5  \n",
       "experience      8.0      38.0  \n",
       "salary      45000.0  999000.0  "
      ]
     },
     "execution_count": 105,
     "metadata": {},
     "output_type": "execute_result"
    }
   ],
   "source": [
    "df[numerical_col].describe().transpose()"
   ]
  },
  {
   "cell_type": "markdown",
   "metadata": {},
   "source": [
    "### Missing value analysis"
   ]
  },
  {
   "cell_type": "code",
   "execution_count": 106,
   "metadata": {},
   "outputs": [
    {
     "data": {
      "text/plain": [
       "age                0\n",
       "experience         0\n",
       "salary             0\n",
       "university         0\n",
       "degree             0\n",
       "currentOffice    230\n",
       "designation        0\n",
       "dtype: int64"
      ]
     },
     "execution_count": 106,
     "metadata": {},
     "output_type": "execute_result"
    }
   ],
   "source": [
    "df[numerical_col + categorical_cols].isnull().sum()"
   ]
  },
  {
   "cell_type": "markdown",
   "metadata": {},
   "source": [
    "### Missing value imputation "
   ]
  },
  {
   "cell_type": "code",
   "execution_count": 107,
   "metadata": {},
   "outputs": [],
   "source": [
    "for col in categorical_cols:\n",
    "    df[col] = df[col].fillna(df[col].value_counts().idxmax())"
   ]
  },
  {
   "cell_type": "markdown",
   "metadata": {},
   "source": [
    "### ploting distribution of numerical column "
   ]
  },
  {
   "cell_type": "code",
   "execution_count": 108,
   "metadata": {},
   "outputs": [
    {
     "data": {
      "text/plain": [
       "<Figure size 432x288 with 0 Axes>"
      ]
     },
     "metadata": {},
     "output_type": "display_data"
    },
    {
     "data": {
      "image/png": "[encoded data removed]",
      "text/plain": [
       "<Figure size 2160x1440 with 3 Axes>"
      ]
     },
     "metadata": {
      "needs_background": "light"
     },
     "output_type": "display_data"
    }
   ],
   "source": [
    "def plot_distribution(data, features):\n",
    "    i = 0\n",
    "    plt.figure()\n",
    "    col = 3\n",
    "    row = int(np.ceil(len(features)/col))\n",
    "    fig, ax = plt.subplots(row,col,figsize=(30,20))\n",
    "    sns.set_style(\"whitegrid\")\n",
    "\n",
    "    for feature in features:\n",
    "        i += 1\n",
    "        plt.subplot(row,col,i);\n",
    "        sns.distplot(data[feature])\n",
    "        plt.xlabel(feature, fontsize=16)\n",
    "        locs, labels = plt.xticks()\n",
    "        plt.tick_params(axis='x', which='major', labelsize=12)\n",
    "        plt.tick_params(axis='y', which='major', labelsize=12)\n",
    "    plt.show();\n",
    "    \n",
    "plot_distribution(df, numerical_col)"
   ]
  },
  {
   "cell_type": "markdown",
   "metadata": {},
   "source": [
    "### outliers analysis "
   ]
  },
  {
   "cell_type": "code",
   "execution_count": 109,
   "metadata": {},
   "outputs": [
    {
     "data": {
      "text/plain": [
       "<Figure size 432x288 with 0 Axes>"
      ]
     },
     "metadata": {},
     "output_type": "display_data"
    },
    {
     "data": {
      "image/png": "[encoded data removed]",
      "text/plain": [
       "<Figure size 1296x1008 with 3 Axes>"
      ]
     },
     "metadata": {},
     "output_type": "display_data"
    }
   ],
   "source": [
    "def plot_boxplot(data, features):\n",
    "    i = 0\n",
    "    plt.figure()\n",
    "    col = 3\n",
    "    row = int(np.ceil(len(features)/col))\n",
    "    fig, ax = plt.subplots(row,col,figsize=(18,14))\n",
    "\n",
    "    for feature in features:\n",
    "        i += 1\n",
    "        plt.subplot(row,col,i);\n",
    "        sns.boxplot(tuple(data[feature]))\n",
    "        plt.xlabel(feature, fontsize=16)\n",
    "        locs, labels = plt.xticks()\n",
    "        plt.tick_params(axis='x', which='major', labelsize=12)\n",
    "        plt.tick_params(axis='y', which='major', labelsize=12)\n",
    "    plt.show();\n",
    "    \n",
    "plot_boxplot(df, numerical_col)"
   ]
  },
  {
   "cell_type": "markdown",
   "metadata": {},
   "source": [
    "### outliers treatment "
   ]
  },
  {
   "cell_type": "code",
   "execution_count": 110,
   "metadata": {},
   "outputs": [],
   "source": [
    "def detect_outlier(feature):\n",
    "    Q1 = feature.quantile(0.25)\n",
    "    Q3 = feature.quantile(0.75)\n",
    "    \n",
    "    IQR = Q3-Q1\n",
    "    \n",
    "    lower_bound = Q1-(1.5*IQR)\n",
    "    upper_bound = Q3+(1.5*IQR)\n",
    "    \n",
    "    return feature.index[(feature<lower_bound)|(feature>upper_bound)].tolist()"
   ]
  },
  {
   "cell_type": "code",
   "execution_count": 111,
   "metadata": {},
   "outputs": [],
   "source": [
    "for col in numerical_col:\n",
    "    indx = detect_outlier(df[col])\n",
    "    df[col].loc[indx] = df[col].median()"
   ]
  },
  {
   "cell_type": "code",
   "execution_count": 112,
   "metadata": {},
   "outputs": [],
   "source": [
    "df = pd.get_dummies(df, columns=categorical_cols, prefix=categorical_cols)"
   ]
  },
  {
   "cell_type": "code",
   "execution_count": 113,
   "metadata": {},
   "outputs": [
    {
     "data": {
      "text/plain": [
       "(3281, 3885)"
      ]
     },
     "execution_count": 113,
     "metadata": {},
     "output_type": "execute_result"
    }
   ],
   "source": [
    "df.shape"
   ]
  },
  {
   "cell_type": "code",
   "execution_count": 114,
   "metadata": {},
   "outputs": [
    {
     "data": {
      "image/png": "[encoded data removed]",
      "text/plain": [
       "<Figure size 720x576 with 2 Axes>"
      ]
     },
     "metadata": {},
     "output_type": "display_data"
    }
   ],
   "source": [
    "corr = df[numerical_col+['matchingScore']].corr()\n",
    "fig, ax = plt.subplots(figsize=(10,8))  \n",
    "sns.heatmap(corr, \n",
    "            xticklabels=corr.columns.values,\n",
    "            yticklabels=corr.columns.values,\n",
    "            annot=True, fmt=\".2f\");"
   ]
  },
  {
   "cell_type": "code",
   "execution_count": 115,
   "metadata": {},
   "outputs": [],
   "source": [
    "df.drop(['name', 'address', 'mobile', 'photo'], axis=1, inplace=True)"
   ]
  },
  {
   "cell_type": "markdown",
   "metadata": {},
   "source": [
    "### Data Segregation"
   ]
  },
  {
   "cell_type": "code",
   "execution_count": 116,
   "metadata": {},
   "outputs": [],
   "source": [
    "X = df.loc[:,df.columns != 'matchingScore']\n",
    "y = df.loc[:,df.columns == 'matchingScore']"
   ]
  },
  {
   "cell_type": "code",
   "execution_count": 117,
   "metadata": {},
   "outputs": [
    {
     "data": {
      "text/plain": [
       "array([[-0.10531242, -0.09861193,  1.75614198, ..., -0.3377746 ,\n",
       "        -0.49799904, -0.4413942 ],\n",
       "       [-0.30166978,  0.39497427,  1.13767944, ..., -0.3377746 ,\n",
       "        -0.49799904, -0.4413942 ],\n",
       "       [-0.43911994,  0.39497427,  0.51921689, ..., -0.3377746 ,\n",
       "        -0.49799904, -0.4413942 ],\n",
       "       ...,\n",
       "       [ 0.48375967, -0.09861193, -1.95463328, ..., -0.3377746 ,\n",
       "        -0.49799904,  2.26554856],\n",
       "       [-0.73365598,  0.39497427, -1.95463328, ..., -0.3377746 ,\n",
       "        -0.49799904,  2.26554856],\n",
       "       [ 0.28740231, -0.34540504, -0.09924565, ..., -0.3377746 ,\n",
       "        -0.49799904,  2.26554856]])"
      ]
     },
     "execution_count": 117,
     "metadata": {},
     "output_type": "execute_result"
    }
   ],
   "source": [
    "from sklearn.preprocessing import StandardScaler\n",
    "\n",
    "scaler = StandardScaler()\n",
    "scaler.fit_transform(X)"
   ]
  },
  {
   "cell_type": "markdown",
   "metadata": {},
   "source": [
    "### Model"
   ]
  },
  {
   "cell_type": "code",
   "execution_count": 118,
   "metadata": {},
   "outputs": [
    {
     "name": "stdout",
     "output_type": "stream",
     "text": [
      "Training datset: (2099, 3880),\n",
      "Validation Dataset: (525, 3880),\n",
      "Test Dataset: (657, 3880),\n",
      "\n"
     ]
    }
   ],
   "source": [
    "seed = 123\n",
    "from sklearn.model_selection import train_test_split\n",
    "\n",
    "X_train, X_test, y_train, y_test = train_test_split(X, y, test_size=0.2, shuffle=True, random_state=seed)\n",
    "X_train, X_val, y_train, y_val = train_test_split(X_train, y_train, test_size=0.2, shuffle=True, random_state=seed)\n",
    "\n",
    "print(\"\"\"Training datset: {},\n",
    "Validation Dataset: {},\n",
    "Test Dataset: {},\n",
    "\"\"\".format(X_train.shape, X_val.shape, X_test.shape))"
   ]
  },
  {
   "cell_type": "code",
   "execution_count": 119,
   "metadata": {},
   "outputs": [],
   "source": [
    "from sklearn.linear_model import LogisticRegression\n",
    "from sklearn.linear_model import LinearRegression \n",
    "\n",
    "from sklearn.metrics import r2_score"
   ]
  },
  {
   "cell_type": "code",
   "execution_count": 120,
   "metadata": {},
   "outputs": [],
   "source": [
    "from sklearn.model_selection import RandomizedSearchCV\n",
    "\n",
    "param_grid_lr = {\n",
    "    'C': np.logspace(-5, 8, 15),\n",
    "    'penalty': ['l1', 'l2']\n",
    "}\n",
    "\n",
    "param_grid_dt = {\n",
    "    'criterion': ['gini', 'entropy'],\n",
    "    'min_samples_split': np.arange(2,20,5)\n",
    "}"
   ]
  },
  {
   "cell_type": "code",
   "execution_count": 121,
   "metadata": {},
   "outputs": [],
   "source": [
    "def randomsearch(X, y, estimator, param_grid, cv=5, n_iter=10, n_jobs=2, random_state=1234):\n",
    "    random = RandomizedSearchCV(estimator=estimator, \n",
    "                                param_distributions=param_grid, \n",
    "                                cv=cv, \n",
    "                                n_iter=n_iter, \n",
    "                                n_jobs=n_jobs,\n",
    "                                random_state=random_state)\n",
    "    random.fit(X, y)\n",
    "    return random.best_params_"
   ]
  },
  {
   "cell_type": "code",
   "execution_count": 122,
   "metadata": {},
   "outputs": [
    {
     "data": {
      "text/plain": [
       "{'penalty': 'l1', 'C': 0.4393970560760795}"
      ]
     },
     "execution_count": 122,
     "metadata": {},
     "output_type": "execute_result"
    }
   ],
   "source": [
    "randomsearch(X_train, y_train, LogisticRegression(), param_grid_lr)"
   ]
  },
  {
   "cell_type": "markdown",
   "metadata": {},
   "source": [
    "### Logistic Regression"
   ]
  },
  {
   "cell_type": "code",
   "execution_count": 123,
   "metadata": {},
   "outputs": [
    {
     "name": "stdout",
     "output_type": "stream",
     "text": [
      "Logistic Regression Cross Validation Accuracy: 0.6495075270666522\n",
      "Logistic Regression Test Accuracy: 0.6788432267884322\n"
     ]
    }
   ],
   "source": [
    "from sklearn.linear_model import LogisticRegression\n",
    "from sklearn.metrics import accuracy_score\n",
    "from sklearn.model_selection import cross_val_score\n",
    "from sklearn.model_selection import StratifiedKFold \n",
    "\n",
    "seed = 123\n",
    "log_reg = LogisticRegression(penalty= 'l1', C= 0.4393970560760795).fit(X_train, y_train) # train\n",
    "\n",
    "skf = StratifiedKFold(n_splits=10, random_state = seed)\n",
    "log_reg_cv = cross_val_score(log_reg, X_train, y_train, cv=skf, scoring='accuracy') #Cross-Validation\n",
    " \n",
    "log_reg_ytest = log_reg.predict(X_test) #predict\n",
    "\n",
    "acc_test = accuracy_score(y_test, log_reg_ytest) # test accuracy\n",
    "\n",
    "print(\"Logistic Regression Cross Validation Accuracy: {}\".format(log_reg_cv.mean()))\n",
    "print(\"Logistic Regression Test Accuracy: {}\".format(acc_test))"
   ]
  },
  {
   "cell_type": "markdown",
   "metadata": {},
   "source": [
    "### Random Forest"
   ]
  },
  {
   "cell_type": "code",
   "execution_count": 124,
   "metadata": {},
   "outputs": [
    {
     "name": "stdout",
     "output_type": "stream",
     "text": [
      "Random Forest Cross validation Accuracy : 0.4312594648947754\n",
      "Random Forest Test Accuracy: 0.3576864535768645\n"
     ]
    }
   ],
   "source": [
    "from sklearn.ensemble import RandomForestClassifier\n",
    "\n",
    "rf_classifier = RandomForestClassifier(n_estimators = 200, random_state = seed, max_depth = 10).fit(X_train, y_train) # train\n",
    "\n",
    "rf_cls_cv = cross_val_score(rf_classifier, X_train, y_train, cv = 10, scoring = 'accuracy') # cross-validation\n",
    "\n",
    "rf_cls_ytest = rf_classifier.predict(X_test) # predict \n",
    "acc_test = accuracy_score(y_test, rf_cls_ytest) # test accuracy\n",
    "\n",
    "print(\"Random Forest Cross validation Accuracy : {}\".format(rf_cls_cv.mean()))\n",
    "print(\"Random Forest Test Accuracy: {}\".format(acc_test))"
   ]
  },
  {
   "cell_type": "markdown",
   "metadata": {},
   "source": [
    "#### Evaluating random forest with confusion matrix"
   ]
  },
  {
   "cell_type": "code",
   "execution_count": 125,
   "metadata": {},
   "outputs": [
    {
     "name": "stdout",
     "output_type": "stream",
     "text": [
      "[[  0   0   0   0   0   0   9   0   0  23]\n",
      " [  0   0   0   0   0   0   0   5   0  10]\n",
      " [  0   0   0   0   0   0  13   0   0  35]\n",
      " [  0   0   0   0   0   0   0   0   0   4]\n",
      " [  0   0   0   0   0   0   0   9   0  23]\n",
      " [  0   0   0   0   0   0   2   0   0  18]\n",
      " [  0   0   0   0   0   0  16   0   0 125]\n",
      " [  0   0   0   0   0   0   0  43   0 100]\n",
      " [  0   0   0   0   0   0   0   0   0  45]\n",
      " [  0   0   0   0   0   0   0   1   0 176]]\n",
      "              precision    recall  f1-score   support\n",
      "\n",
      "           0       0.00      0.00      0.00        32\n",
      "          25       0.00      0.00      0.00        15\n",
      "          33       0.00      0.00      0.00        48\n",
      "          40       0.00      0.00      0.00         4\n",
      "          50       0.00      0.00      0.00        32\n",
      "          60       0.00      0.00      0.00        20\n",
      "          66       0.40      0.11      0.18       141\n",
      "          75       0.74      0.30      0.43       143\n",
      "          80       0.00      0.00      0.00        45\n",
      "         100       0.31      0.99      0.48       177\n",
      "\n",
      "   micro avg       0.36      0.36      0.36       657\n",
      "   macro avg       0.15      0.14      0.11       657\n",
      "weighted avg       0.33      0.36      0.26       657\n",
      "\n"
     ]
    }
   ],
   "source": [
    "from sklearn.metrics import classification_report, confusion_matrix  \n",
    "print(confusion_matrix(y_test,rf_cls_ytest))  \n",
    "print(classification_report(y_test,rf_cls_ytest)) "
   ]
  },
  {
   "cell_type": "markdown",
   "metadata": {},
   "source": [
    "### K-Nearest Neighbors"
   ]
  },
  {
   "cell_type": "code",
   "execution_count": 126,
   "metadata": {},
   "outputs": [
    {
     "name": "stdout",
     "output_type": "stream",
     "text": [
      "KNN Cross Validation Accuracy: 0.44174335615776267\n",
      "KNN Test Accuracy: 0.426179604261796\n"
     ]
    }
   ],
   "source": [
    "from sklearn.neighbors import KNeighborsClassifier\n",
    "\n",
    "KNN_classifier = KNeighborsClassifier(n_neighbors=5) \n",
    "KNN_classifier.fit(X_train, y_train) # train\n",
    "\n",
    "skf = StratifiedKFold(n_splits=8)\n",
    "KNN_cls_cv = cross_val_score(KNN_classifier, X_train, y_train, cv=skf, scoring='accuracy') #Cross-Validation\n",
    "\n",
    "KNN_cls_ytest = KNN_classifier.predict(X_test) # predict\n",
    "\n",
    "acc_test = accuracy_score(y_test, KNN_cls_ytest) # Test Accuracy \n",
    "\n",
    "print(\"KNN Cross Validation Accuracy: {}\".format(KNN_cls_cv.mean()))\n",
    "print(\"KNN Test Accuracy: {}\".format(acc_test))"
   ]
  },
  {
   "cell_type": "markdown",
   "metadata": {},
   "source": [
    "#### Evaluating KNN with confusion matrix"
   ]
  },
  {
   "cell_type": "code",
   "execution_count": 127,
   "metadata": {},
   "outputs": [
    {
     "name": "stdout",
     "output_type": "stream",
     "text": [
      "[[ 14   0   7   0   2   0   5   2   0   2]\n",
      " [  0   3   0   0   6   1   4   1   0   0]\n",
      " [  0   3  11   0   2   0  23   4   0   5]\n",
      " [  0   0   0   0   1   3   0   0   0   0]\n",
      " [  0   5   2   0   8   0   1  11   1   4]\n",
      " [  1   1   3   0   1   9   3   1   0   1]\n",
      " [  3   2  23   0   9   2  51  13   1  37]\n",
      " [  6   4   4   0  17   1  15  70   2  24]\n",
      " [  2   0   3   0   6   2   4   8  11   9]\n",
      " [  1   0   6   0  11   1  29  25   1 103]]\n",
      "              precision    recall  f1-score   support\n",
      "\n",
      "           0       0.52      0.44      0.47        32\n",
      "          25       0.17      0.20      0.18        15\n",
      "          33       0.19      0.23      0.21        48\n",
      "          40       0.00      0.00      0.00         4\n",
      "          50       0.13      0.25      0.17        32\n",
      "          60       0.47      0.45      0.46        20\n",
      "          66       0.38      0.36      0.37       141\n",
      "          75       0.52      0.49      0.50       143\n",
      "          80       0.69      0.24      0.36        45\n",
      "         100       0.56      0.58      0.57       177\n",
      "\n",
      "   micro avg       0.43      0.43      0.43       657\n",
      "   macro avg       0.36      0.32      0.33       657\n",
      "weighted avg       0.45      0.43      0.43       657\n",
      "\n"
     ]
    }
   ],
   "source": [
    "from sklearn.metrics import classification_report, confusion_matrix  \n",
    "print(confusion_matrix(y_test,KNN_cls_ytest))  \n",
    "print(classification_report(y_test,KNN_cls_ytest)) "
   ]
  }
 ],
 "metadata": {
  "kernelspec": {
   "display_name": "Python 3",
   "language": "python",
   "name": "python3"
  },
  "language_info": {
   "codemirror_mode": {
    "name": "ipython",
    "version": 3
   },
   "file_extension": ".py",
   "mimetype": "text/x-python",
   "name": "python",
   "nbconvert_exporter": "python",
   "pygments_lexer": "ipython3",
   "version": "3.7.3"
  }
 },
 "nbformat": 4,
 "nbformat_minor": 2
}
