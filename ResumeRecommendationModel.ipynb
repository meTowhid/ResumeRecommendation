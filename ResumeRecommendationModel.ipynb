{
 "cells": [
  {
   "cell_type": "markdown",
   "metadata": {},
   "source": [
    "<center><h1>Resume Recommendation<h1><center>"
   ]
  },
  {
   "cell_type": "markdown",
   "metadata": {},
   "source": [
    "## Importing Libraries"
   ]
  },
  {
   "cell_type": "code",
   "execution_count": 1,
   "metadata": {},
   "outputs": [],
   "source": [
    "import warnings\n",
    "warnings.filterwarnings('ignore')\n",
    "\n",
    "import pandas as pd\n",
    "import numpy as np\n",
    "import re\n",
    "\n",
    "import matplotlib.pyplot as plt\n",
    "%matplotlib inline\n",
    "import seaborn as sns\n",
    "sns.set()\n"
   ]
  },
  {
   "cell_type": "markdown",
   "metadata": {},
   "source": [
    "## 1. Data Collection"
   ]
  },
  {
   "cell_type": "code",
   "execution_count": 2,
   "metadata": {},
   "outputs": [],
   "source": [
    "df = pd.read_excel(\"dataset.xlsx\")"
   ]
  },
  {
   "cell_type": "code",
   "execution_count": 3,
   "metadata": {
    "scrolled": true
   },
   "outputs": [
    {
     "data": {
      "text/plain": [
       "(3281, 12)"
      ]
     },
     "execution_count": 3,
     "metadata": {},
     "output_type": "execute_result"
    }
   ],
   "source": [
    "df.shape"
   ]
  },
  {
   "cell_type": "code",
   "execution_count": 4,
   "metadata": {},
   "outputs": [
    {
     "data": {
      "text/html": [
       "<div>\n",
       "<style scoped>\n",
       "    .dataframe tbody tr th:only-of-type {\n",
       "        vertical-align: middle;\n",
       "    }\n",
       "\n",
       "    .dataframe tbody tr th {\n",
       "        vertical-align: top;\n",
       "    }\n",
       "\n",
       "    .dataframe thead th {\n",
       "        text-align: right;\n",
       "    }\n",
       "</style>\n",
       "<table border=\"1\" class=\"dataframe\">\n",
       "  <thead>\n",
       "    <tr style=\"text-align: right;\">\n",
       "      <th></th>\n",
       "      <th>name</th>\n",
       "      <th>age</th>\n",
       "      <th>address</th>\n",
       "      <th>mobile</th>\n",
       "      <th>photo</th>\n",
       "      <th>university</th>\n",
       "      <th>degree</th>\n",
       "      <th>currentOffice</th>\n",
       "      <th>experience</th>\n",
       "      <th>designation</th>\n",
       "      <th>salary</th>\n",
       "      <th>matchingScore</th>\n",
       "    </tr>\n",
       "  </thead>\n",
       "  <tbody>\n",
       "    <tr>\n",
       "      <th>0</th>\n",
       "      <td>Md. Sanoar Hossain</td>\n",
       "      <td>50.4</td>\n",
       "      <td>Cantonment, Dhaka</td>\n",
       "      <td>01728165215, 01766900784</td>\n",
       "      <td>https://my.bdjobs.com/photos/1050001-1075000/4...</td>\n",
       "      <td>Rajshahi University</td>\n",
       "      <td>M.Com.(Accounting)</td>\n",
       "      <td>Sisal  Composite  Ltd</td>\n",
       "      <td>21</td>\n",
       "      <td>accountant</td>\n",
       "      <td>60000</td>\n",
       "      <td>100</td>\n",
       "    </tr>\n",
       "    <tr>\n",
       "      <th>1</th>\n",
       "      <td>Shifa Saleheen, (CACC +500, IELTS 7.5)</td>\n",
       "      <td>28.8</td>\n",
       "      <td>Mirpur, Dhaka</td>\n",
       "      <td>01913907867, 01770256686</td>\n",
       "      <td>https://my.bdjobs.com/photos/825001-850000/348...</td>\n",
       "      <td>Jahangirnagar University</td>\n",
       "      <td>Master of Science</td>\n",
       "      <td>Mir Group of Companies</td>\n",
       "      <td>7</td>\n",
       "      <td>accountant</td>\n",
       "      <td>50000</td>\n",
       "      <td>100</td>\n",
       "    </tr>\n",
       "    <tr>\n",
       "      <th>2</th>\n",
       "      <td>MD.O.A.KIBRIA KAMAL</td>\n",
       "      <td>28.1</td>\n",
       "      <td>Khilgaon, Dhaka</td>\n",
       "      <td>01718372603</td>\n",
       "      <td>https://my.bdjobs.com/photos/1425001-1450000/5...</td>\n",
       "      <td>Anglia Ruskin University</td>\n",
       "      <td>BA (Honors) Business (Finance)</td>\n",
       "      <td>Energypac Power Generation Limited</td>\n",
       "      <td>7</td>\n",
       "      <td>accountant</td>\n",
       "      <td>40000</td>\n",
       "      <td>100</td>\n",
       "    </tr>\n",
       "    <tr>\n",
       "      <th>3</th>\n",
       "      <td>Naimul Bari</td>\n",
       "      <td>31.3</td>\n",
       "      <td>Ramna, Dhaka</td>\n",
       "      <td>01816501074, 01816501074</td>\n",
       "      <td>https://my.bdjobs.com/photos/800001-825000/338...</td>\n",
       "      <td>Stamford University Bangladesh</td>\n",
       "      <td>Master of Business Administration (M.B.A)</td>\n",
       "      <td>Tamijuddin Textile Mills Limited</td>\n",
       "      <td>4</td>\n",
       "      <td>accountant</td>\n",
       "      <td>45000</td>\n",
       "      <td>100</td>\n",
       "    </tr>\n",
       "    <tr>\n",
       "      <th>4</th>\n",
       "      <td>Subhra Chandra Deb</td>\n",
       "      <td>32.9</td>\n",
       "      <td>Narsingdi Sadar, Narsingdi</td>\n",
       "      <td>01790082088</td>\n",
       "      <td>https://my.bdjobs.com/photos/925001-950000/389...</td>\n",
       "      <td>National University</td>\n",
       "      <td>M.B.S</td>\n",
       "      <td>Britex sportswear limited</td>\n",
       "      <td>7</td>\n",
       "      <td>accountant</td>\n",
       "      <td>35000</td>\n",
       "      <td>100</td>\n",
       "    </tr>\n",
       "  </tbody>\n",
       "</table>\n",
       "</div>"
      ],
      "text/plain": [
       "                                     name   age                     address  \\\n",
       "0                      Md. Sanoar Hossain  50.4           Cantonment, Dhaka   \n",
       "1  Shifa Saleheen, (CACC +500, IELTS 7.5)  28.8               Mirpur, Dhaka   \n",
       "2                     MD.O.A.KIBRIA KAMAL  28.1             Khilgaon, Dhaka   \n",
       "3                             Naimul Bari  31.3                Ramna, Dhaka   \n",
       "4                      Subhra Chandra Deb  32.9  Narsingdi Sadar, Narsingdi   \n",
       "\n",
       "                     mobile  \\\n",
       "0  01728165215, 01766900784   \n",
       "1  01913907867, 01770256686   \n",
       "2               01718372603   \n",
       "3  01816501074, 01816501074   \n",
       "4               01790082088   \n",
       "\n",
       "                                               photo  \\\n",
       "0  https://my.bdjobs.com/photos/1050001-1075000/4...   \n",
       "1  https://my.bdjobs.com/photos/825001-850000/348...   \n",
       "2  https://my.bdjobs.com/photos/1425001-1450000/5...   \n",
       "3  https://my.bdjobs.com/photos/800001-825000/338...   \n",
       "4  https://my.bdjobs.com/photos/925001-950000/389...   \n",
       "\n",
       "                       university                                     degree  \\\n",
       "0             Rajshahi University                         M.Com.(Accounting)   \n",
       "1        Jahangirnagar University                          Master of Science   \n",
       "2        Anglia Ruskin University             BA (Honors) Business (Finance)   \n",
       "3  Stamford University Bangladesh  Master of Business Administration (M.B.A)   \n",
       "4             National University                                      M.B.S   \n",
       "\n",
       "                        currentOffice  experience designation  salary  \\\n",
       "0               Sisal  Composite  Ltd          21  accountant   60000   \n",
       "1              Mir Group of Companies           7  accountant   50000   \n",
       "2  Energypac Power Generation Limited           7  accountant   40000   \n",
       "3    Tamijuddin Textile Mills Limited           4  accountant   45000   \n",
       "4           Britex sportswear limited           7  accountant   35000   \n",
       "\n",
       "   matchingScore  \n",
       "0            100  \n",
       "1            100  \n",
       "2            100  \n",
       "3            100  \n",
       "4            100  "
      ]
     },
     "execution_count": 4,
     "metadata": {},
     "output_type": "execute_result"
    }
   ],
   "source": [
    "df.head()"
   ]
  },
  {
   "cell_type": "markdown",
   "metadata": {},
   "source": [
    "## 2. Data Exploration"
   ]
  },
  {
   "cell_type": "markdown",
   "metadata": {},
   "source": [
    "### Find out freashers and job holders"
   ]
  },
  {
   "cell_type": "code",
   "execution_count": 5,
   "metadata": {},
   "outputs": [],
   "source": [
    "def save():\n",
    "    df.to_excel('current.xlsx', index=False)"
   ]
  },
  {
   "cell_type": "code",
   "execution_count": 6,
   "metadata": {},
   "outputs": [],
   "source": [
    "def filterFresher(row):\n",
    "    return 'fresher' if row.experience == 0 else 'jobHolder'\n",
    "#     return 1 if row.experience == 0 else 0"
   ]
  },
  {
   "cell_type": "code",
   "execution_count": 7,
   "metadata": {},
   "outputs": [
    {
     "data": {
      "text/html": [
       "<div>\n",
       "<style scoped>\n",
       "    .dataframe tbody tr th:only-of-type {\n",
       "        vertical-align: middle;\n",
       "    }\n",
       "\n",
       "    .dataframe tbody tr th {\n",
       "        vertical-align: top;\n",
       "    }\n",
       "\n",
       "    .dataframe thead th {\n",
       "        text-align: right;\n",
       "    }\n",
       "</style>\n",
       "<table border=\"1\" class=\"dataframe\">\n",
       "  <thead>\n",
       "    <tr style=\"text-align: right;\">\n",
       "      <th></th>\n",
       "      <th>name</th>\n",
       "      <th>age</th>\n",
       "      <th>address</th>\n",
       "      <th>mobile</th>\n",
       "      <th>photo</th>\n",
       "      <th>university</th>\n",
       "      <th>degree</th>\n",
       "      <th>currentOffice</th>\n",
       "      <th>experience</th>\n",
       "      <th>designation</th>\n",
       "      <th>salary</th>\n",
       "      <th>matchingScore</th>\n",
       "      <th>fresher</th>\n",
       "    </tr>\n",
       "  </thead>\n",
       "  <tbody>\n",
       "    <tr>\n",
       "      <th>0</th>\n",
       "      <td>Md. Sanoar Hossain</td>\n",
       "      <td>50.4</td>\n",
       "      <td>Cantonment, Dhaka</td>\n",
       "      <td>01728165215, 01766900784</td>\n",
       "      <td>https://my.bdjobs.com/photos/1050001-1075000/4...</td>\n",
       "      <td>Rajshahi University</td>\n",
       "      <td>M.Com.(Accounting)</td>\n",
       "      <td>Sisal  Composite  Ltd</td>\n",
       "      <td>21</td>\n",
       "      <td>accountant</td>\n",
       "      <td>60000</td>\n",
       "      <td>100</td>\n",
       "      <td>jobHolder</td>\n",
       "    </tr>\n",
       "    <tr>\n",
       "      <th>1</th>\n",
       "      <td>Shifa Saleheen, (CACC +500, IELTS 7.5)</td>\n",
       "      <td>28.8</td>\n",
       "      <td>Mirpur, Dhaka</td>\n",
       "      <td>01913907867, 01770256686</td>\n",
       "      <td>https://my.bdjobs.com/photos/825001-850000/348...</td>\n",
       "      <td>Jahangirnagar University</td>\n",
       "      <td>Master of Science</td>\n",
       "      <td>Mir Group of Companies</td>\n",
       "      <td>7</td>\n",
       "      <td>accountant</td>\n",
       "      <td>50000</td>\n",
       "      <td>100</td>\n",
       "      <td>jobHolder</td>\n",
       "    </tr>\n",
       "    <tr>\n",
       "      <th>2</th>\n",
       "      <td>MD.O.A.KIBRIA KAMAL</td>\n",
       "      <td>28.1</td>\n",
       "      <td>Khilgaon, Dhaka</td>\n",
       "      <td>01718372603</td>\n",
       "      <td>https://my.bdjobs.com/photos/1425001-1450000/5...</td>\n",
       "      <td>Anglia Ruskin University</td>\n",
       "      <td>BA (Honors) Business (Finance)</td>\n",
       "      <td>Energypac Power Generation Limited</td>\n",
       "      <td>7</td>\n",
       "      <td>accountant</td>\n",
       "      <td>40000</td>\n",
       "      <td>100</td>\n",
       "      <td>jobHolder</td>\n",
       "    </tr>\n",
       "    <tr>\n",
       "      <th>3</th>\n",
       "      <td>Naimul Bari</td>\n",
       "      <td>31.3</td>\n",
       "      <td>Ramna, Dhaka</td>\n",
       "      <td>01816501074, 01816501074</td>\n",
       "      <td>https://my.bdjobs.com/photos/800001-825000/338...</td>\n",
       "      <td>Stamford University Bangladesh</td>\n",
       "      <td>Master of Business Administration (M.B.A)</td>\n",
       "      <td>Tamijuddin Textile Mills Limited</td>\n",
       "      <td>4</td>\n",
       "      <td>accountant</td>\n",
       "      <td>45000</td>\n",
       "      <td>100</td>\n",
       "      <td>jobHolder</td>\n",
       "    </tr>\n",
       "    <tr>\n",
       "      <th>4</th>\n",
       "      <td>Subhra Chandra Deb</td>\n",
       "      <td>32.9</td>\n",
       "      <td>Narsingdi Sadar, Narsingdi</td>\n",
       "      <td>01790082088</td>\n",
       "      <td>https://my.bdjobs.com/photos/925001-950000/389...</td>\n",
       "      <td>National University</td>\n",
       "      <td>M.B.S</td>\n",
       "      <td>Britex sportswear limited</td>\n",
       "      <td>7</td>\n",
       "      <td>accountant</td>\n",
       "      <td>35000</td>\n",
       "      <td>100</td>\n",
       "      <td>jobHolder</td>\n",
       "    </tr>\n",
       "  </tbody>\n",
       "</table>\n",
       "</div>"
      ],
      "text/plain": [
       "                                     name   age                     address  \\\n",
       "0                      Md. Sanoar Hossain  50.4           Cantonment, Dhaka   \n",
       "1  Shifa Saleheen, (CACC +500, IELTS 7.5)  28.8               Mirpur, Dhaka   \n",
       "2                     MD.O.A.KIBRIA KAMAL  28.1             Khilgaon, Dhaka   \n",
       "3                             Naimul Bari  31.3                Ramna, Dhaka   \n",
       "4                      Subhra Chandra Deb  32.9  Narsingdi Sadar, Narsingdi   \n",
       "\n",
       "                     mobile  \\\n",
       "0  01728165215, 01766900784   \n",
       "1  01913907867, 01770256686   \n",
       "2               01718372603   \n",
       "3  01816501074, 01816501074   \n",
       "4               01790082088   \n",
       "\n",
       "                                               photo  \\\n",
       "0  https://my.bdjobs.com/photos/1050001-1075000/4...   \n",
       "1  https://my.bdjobs.com/photos/825001-850000/348...   \n",
       "2  https://my.bdjobs.com/photos/1425001-1450000/5...   \n",
       "3  https://my.bdjobs.com/photos/800001-825000/338...   \n",
       "4  https://my.bdjobs.com/photos/925001-950000/389...   \n",
       "\n",
       "                       university                                     degree  \\\n",
       "0             Rajshahi University                         M.Com.(Accounting)   \n",
       "1        Jahangirnagar University                          Master of Science   \n",
       "2        Anglia Ruskin University             BA (Honors) Business (Finance)   \n",
       "3  Stamford University Bangladesh  Master of Business Administration (M.B.A)   \n",
       "4             National University                                      M.B.S   \n",
       "\n",
       "                        currentOffice  experience designation  salary  \\\n",
       "0               Sisal  Composite  Ltd          21  accountant   60000   \n",
       "1              Mir Group of Companies           7  accountant   50000   \n",
       "2  Energypac Power Generation Limited           7  accountant   40000   \n",
       "3    Tamijuddin Textile Mills Limited           4  accountant   45000   \n",
       "4           Britex sportswear limited           7  accountant   35000   \n",
       "\n",
       "   matchingScore    fresher  \n",
       "0            100  jobHolder  \n",
       "1            100  jobHolder  \n",
       "2            100  jobHolder  \n",
       "3            100  jobHolder  \n",
       "4            100  jobHolder  "
      ]
     },
     "execution_count": 7,
     "metadata": {},
     "output_type": "execute_result"
    }
   ],
   "source": [
    "df['fresher'] = df.apply(lambda row: filterFresher(row), axis=1)\n",
    "df.head()"
   ]
  },
  {
   "cell_type": "code",
   "execution_count": 10,
   "metadata": {},
   "outputs": [],
   "source": [
    "def categorizeSubject(row):\n",
    "    found = re.search(\".*(?i)([bm] ?\\.? ?sc|Computer|Science).*\", row.degree) \n",
    "    return 0 if not found else 1"
   ]
  },
  {
   "cell_type": "code",
   "execution_count": 11,
   "metadata": {
    "scrolled": true
   },
   "outputs": [
    {
     "data": {
      "text/html": [
       "<div>\n",
       "<style scoped>\n",
       "    .dataframe tbody tr th:only-of-type {\n",
       "        vertical-align: middle;\n",
       "    }\n",
       "\n",
       "    .dataframe tbody tr th {\n",
       "        vertical-align: top;\n",
       "    }\n",
       "\n",
       "    .dataframe thead th {\n",
       "        text-align: right;\n",
       "    }\n",
       "</style>\n",
       "<table border=\"1\" class=\"dataframe\">\n",
       "  <thead>\n",
       "    <tr style=\"text-align: right;\">\n",
       "      <th></th>\n",
       "      <th>name</th>\n",
       "      <th>age</th>\n",
       "      <th>address</th>\n",
       "      <th>mobile</th>\n",
       "      <th>photo</th>\n",
       "      <th>university</th>\n",
       "      <th>degree</th>\n",
       "      <th>currentOffice</th>\n",
       "      <th>experience</th>\n",
       "      <th>designation</th>\n",
       "      <th>salary</th>\n",
       "      <th>matchingScore</th>\n",
       "      <th>fresher</th>\n",
       "      <th>engineer</th>\n",
       "    </tr>\n",
       "  </thead>\n",
       "  <tbody>\n",
       "    <tr>\n",
       "      <th>0</th>\n",
       "      <td>Md. Sanoar Hossain</td>\n",
       "      <td>50.4</td>\n",
       "      <td>Cantonment, Dhaka</td>\n",
       "      <td>01728165215, 01766900784</td>\n",
       "      <td>https://my.bdjobs.com/photos/1050001-1075000/4...</td>\n",
       "      <td>Rajshahi University</td>\n",
       "      <td>M.Com.(Accounting)</td>\n",
       "      <td>Sisal  Composite  Ltd</td>\n",
       "      <td>21</td>\n",
       "      <td>accountant</td>\n",
       "      <td>60000</td>\n",
       "      <td>100</td>\n",
       "      <td>jobHolder</td>\n",
       "      <td>0</td>\n",
       "    </tr>\n",
       "    <tr>\n",
       "      <th>1</th>\n",
       "      <td>Shifa Saleheen, (CACC +500, IELTS 7.5)</td>\n",
       "      <td>28.8</td>\n",
       "      <td>Mirpur, Dhaka</td>\n",
       "      <td>01913907867, 01770256686</td>\n",
       "      <td>https://my.bdjobs.com/photos/825001-850000/348...</td>\n",
       "      <td>Jahangirnagar University</td>\n",
       "      <td>Master of Science</td>\n",
       "      <td>Mir Group of Companies</td>\n",
       "      <td>7</td>\n",
       "      <td>accountant</td>\n",
       "      <td>50000</td>\n",
       "      <td>100</td>\n",
       "      <td>jobHolder</td>\n",
       "      <td>1</td>\n",
       "    </tr>\n",
       "    <tr>\n",
       "      <th>2</th>\n",
       "      <td>MD.O.A.KIBRIA KAMAL</td>\n",
       "      <td>28.1</td>\n",
       "      <td>Khilgaon, Dhaka</td>\n",
       "      <td>01718372603</td>\n",
       "      <td>https://my.bdjobs.com/photos/1425001-1450000/5...</td>\n",
       "      <td>Anglia Ruskin University</td>\n",
       "      <td>BA (Honors) Business (Finance)</td>\n",
       "      <td>Energypac Power Generation Limited</td>\n",
       "      <td>7</td>\n",
       "      <td>accountant</td>\n",
       "      <td>40000</td>\n",
       "      <td>100</td>\n",
       "      <td>jobHolder</td>\n",
       "      <td>0</td>\n",
       "    </tr>\n",
       "    <tr>\n",
       "      <th>3</th>\n",
       "      <td>Naimul Bari</td>\n",
       "      <td>31.3</td>\n",
       "      <td>Ramna, Dhaka</td>\n",
       "      <td>01816501074, 01816501074</td>\n",
       "      <td>https://my.bdjobs.com/photos/800001-825000/338...</td>\n",
       "      <td>Stamford University Bangladesh</td>\n",
       "      <td>Master of Business Administration (M.B.A)</td>\n",
       "      <td>Tamijuddin Textile Mills Limited</td>\n",
       "      <td>4</td>\n",
       "      <td>accountant</td>\n",
       "      <td>45000</td>\n",
       "      <td>100</td>\n",
       "      <td>jobHolder</td>\n",
       "      <td>0</td>\n",
       "    </tr>\n",
       "    <tr>\n",
       "      <th>4</th>\n",
       "      <td>Subhra Chandra Deb</td>\n",
       "      <td>32.9</td>\n",
       "      <td>Narsingdi Sadar, Narsingdi</td>\n",
       "      <td>01790082088</td>\n",
       "      <td>https://my.bdjobs.com/photos/925001-950000/389...</td>\n",
       "      <td>National University</td>\n",
       "      <td>M.B.S</td>\n",
       "      <td>Britex sportswear limited</td>\n",
       "      <td>7</td>\n",
       "      <td>accountant</td>\n",
       "      <td>35000</td>\n",
       "      <td>100</td>\n",
       "      <td>jobHolder</td>\n",
       "      <td>0</td>\n",
       "    </tr>\n",
       "  </tbody>\n",
       "</table>\n",
       "</div>"
      ],
      "text/plain": [
       "                                     name   age                     address  \\\n",
       "0                      Md. Sanoar Hossain  50.4           Cantonment, Dhaka   \n",
       "1  Shifa Saleheen, (CACC +500, IELTS 7.5)  28.8               Mirpur, Dhaka   \n",
       "2                     MD.O.A.KIBRIA KAMAL  28.1             Khilgaon, Dhaka   \n",
       "3                             Naimul Bari  31.3                Ramna, Dhaka   \n",
       "4                      Subhra Chandra Deb  32.9  Narsingdi Sadar, Narsingdi   \n",
       "\n",
       "                     mobile  \\\n",
       "0  01728165215, 01766900784   \n",
       "1  01913907867, 01770256686   \n",
       "2               01718372603   \n",
       "3  01816501074, 01816501074   \n",
       "4               01790082088   \n",
       "\n",
       "                                               photo  \\\n",
       "0  https://my.bdjobs.com/photos/1050001-1075000/4...   \n",
       "1  https://my.bdjobs.com/photos/825001-850000/348...   \n",
       "2  https://my.bdjobs.com/photos/1425001-1450000/5...   \n",
       "3  https://my.bdjobs.com/photos/800001-825000/338...   \n",
       "4  https://my.bdjobs.com/photos/925001-950000/389...   \n",
       "\n",
       "                       university                                     degree  \\\n",
       "0             Rajshahi University                         M.Com.(Accounting)   \n",
       "1        Jahangirnagar University                          Master of Science   \n",
       "2        Anglia Ruskin University             BA (Honors) Business (Finance)   \n",
       "3  Stamford University Bangladesh  Master of Business Administration (M.B.A)   \n",
       "4             National University                                      M.B.S   \n",
       "\n",
       "                        currentOffice  experience designation  salary  \\\n",
       "0               Sisal  Composite  Ltd          21  accountant   60000   \n",
       "1              Mir Group of Companies           7  accountant   50000   \n",
       "2  Energypac Power Generation Limited           7  accountant   40000   \n",
       "3    Tamijuddin Textile Mills Limited           4  accountant   45000   \n",
       "4           Britex sportswear limited           7  accountant   35000   \n",
       "\n",
       "   matchingScore    fresher  engineer  \n",
       "0            100  jobHolder         0  \n",
       "1            100  jobHolder         1  \n",
       "2            100  jobHolder         0  \n",
       "3            100  jobHolder         0  \n",
       "4            100  jobHolder         0  "
      ]
     },
     "execution_count": 11,
     "metadata": {},
     "output_type": "execute_result"
    }
   ],
   "source": [
    "df['engineer'] = df.apply(lambda row: categorizeSubject(row), axis=1)\n",
    "df.head()"
   ]
  },
  {
   "cell_type": "markdown",
   "metadata": {},
   "source": [
    "### Data Visualization"
   ]
  },
  {
   "cell_type": "code",
   "execution_count": 12,
   "metadata": {
    "scrolled": true
   },
   "outputs": [
    {
     "data": {
      "text/plain": [
       "name               0\n",
       "age                0\n",
       "address           33\n",
       "mobile             1\n",
       "photo              0\n",
       "university         0\n",
       "degree             0\n",
       "currentOffice    230\n",
       "experience         0\n",
       "designation        0\n",
       "salary             0\n",
       "matchingScore      0\n",
       "fresher            0\n",
       "engineer           0\n",
       "dtype: int64"
      ]
     },
     "execution_count": 12,
     "metadata": {},
     "output_type": "execute_result"
    }
   ],
   "source": [
    "df.isna().sum()"
   ]
  },
  {
   "cell_type": "code",
   "execution_count": 13,
   "metadata": {},
   "outputs": [
    {
     "data": {
      "text/plain": [
       "name              object\n",
       "age              float64\n",
       "address           object\n",
       "mobile            object\n",
       "photo             object\n",
       "university        object\n",
       "degree            object\n",
       "currentOffice     object\n",
       "experience         int64\n",
       "designation       object\n",
       "salary             int64\n",
       "matchingScore      int64\n",
       "fresher           object\n",
       "engineer           int64\n",
       "dtype: object"
      ]
     },
     "execution_count": 13,
     "metadata": {},
     "output_type": "execute_result"
    }
   ],
   "source": [
    "df.dtypes"
   ]
  },
  {
   "cell_type": "code",
   "execution_count": 14,
   "metadata": {},
   "outputs": [
    {
     "data": {
      "text/plain": [
       "['age', 'experience', 'salary', 'matchingScore', 'engineer']"
      ]
     },
     "execution_count": 14,
     "metadata": {},
     "output_type": "execute_result"
    }
   ],
   "source": [
    "numerics = ['int16', 'int32', 'int64', 'float16', 'float32', 'float64']\n",
    "numerical_col = df.select_dtypes(include=numerics).columns.tolist()\n",
    "numerical_col"
   ]
  },
  {
   "cell_type": "code",
   "execution_count": 15,
   "metadata": {},
   "outputs": [
    {
     "data": {
      "text/plain": [
       "<Figure size 432x288 with 0 Axes>"
      ]
     },
     "metadata": {},
     "output_type": "display_data"
    },
    {
     "data": {
      "image/png": "[encoded data removed]",
      "text/plain": [
       "<Figure size 1296x1080 with 6 Axes>"
      ]
     },
     "metadata": {
      "needs_background": "light"
     },
     "output_type": "display_data"
    }
   ],
   "source": [
    "def plot_distribution(data, features):\n",
    "    i = 0\n",
    "    plt.figure()\n",
    "    col = 3\n",
    "    row = int(np.ceil(len(features)/col))\n",
    "    fig, ax = plt.subplots(row,col,figsize=(18,15))\n",
    "\n",
    "    for feature in features:\n",
    "        i += 1\n",
    "        plt.subplot(row,col,i);\n",
    "        sns.distplot(tuple(data[feature]))\n",
    "        plt.xlabel(feature, fontsize=16)\n",
    "        locs, labels = plt.xticks()\n",
    "        plt.tick_params(axis='x', which='major', labelsize=12)\n",
    "        plt.tick_params(axis='y', which='major', labelsize=12)\n",
    "    plt.show();\n",
    "    \n",
    "plot_distribution(df, numerical_col)"
   ]
  },
  {
   "cell_type": "code",
   "execution_count": 21,
   "metadata": {
    "scrolled": true
   },
   "outputs": [
    {
     "data": {
      "text/plain": [
       "<Figure size 432x288 with 0 Axes>"
      ]
     },
     "metadata": {},
     "output_type": "display_data"
    },
    {
     "data": {
      "image/png": "[encoded data removed]",
      "text/plain": [
       "<Figure size 1296x1008 with 6 Axes>"
      ]
     },
     "metadata": {
      "needs_background": "light"
     },
     "output_type": "display_data"
    }
   ],
   "source": [
    "def plot_boxplot(data, features):\n",
    "    i = 0\n",
    "    plt.figure()\n",
    "    col = 3\n",
    "    row = int(np.ceil(len(features)/col))\n",
    "    fig, ax = plt.subplots(row,col,figsize=(18,14))\n",
    "\n",
    "    for feature in features:\n",
    "        i += 1\n",
    "        plt.subplot(row,col,i);\n",
    "        sns.boxplot(tuple(data[feature]))\n",
    "        plt.xlabel(feature, fontsize=16)\n",
    "        locs, labels = plt.xticks()\n",
    "        plt.tick_params(axis='x', which='major', labelsize=12)\n",
    "        plt.tick_params(axis='y', which='major', labelsize=12)\n",
    "    plt.show();\n",
    "    \n",
    "plot_boxplot(df, numerical_col)"
   ]
  },
  {
   "cell_type": "code",
   "execution_count": 17,
   "metadata": {
    "scrolled": true
   },
   "outputs": [
    {
     "data": {
      "text/plain": [
       "<matplotlib.axes._subplots.AxesSubplot at 0x1a1ddee5c0>"
      ]
     },
     "execution_count": 17,
     "metadata": {},
     "output_type": "execute_result"
    },
    {
     "data": {
      "image/png": "[encoded data removed]",
      "text/plain": [
       "<Figure size 720x576 with 2 Axes>"
      ]
     },
     "metadata": {
      "needs_background": "light"
     },
     "output_type": "display_data"
    }
   ],
   "source": [
    "corr = df.corr()\n",
    "fig, ax = plt.subplots(figsize=(10,8))\n",
    "sns.heatmap(corr, \n",
    "            xticklabels = corr.columns.values,\n",
    "            yticklabels = corr.columns.values,\n",
    "            annot = True, fmt = '.2f')"
   ]
  },
  {
   "cell_type": "code",
   "execution_count": 18,
   "metadata": {},
   "outputs": [
    {
     "name": "stdout",
     "output_type": "stream",
     "text": [
      "age --> [0, 56, 75, 82, 118, 181, 217, 224, 225, 437, 577, 1745, 1752, 1790, 2024, 2068, 2077, 2085, 2117, 2123, 2127, 2128, 2129, 2151, 2154, 2204, 2210, 2213, 2223, 2227, 2239, 2245, 2247, 2259, 2263, 2270, 2281, 2302, 2304, 2308, 2314, 2316, 2351, 2362, 2382, 2399, 2425, 2429, 2443, 2446, 2448, 2455, 2478, 2489, 2632, 2747, 2754, 2755, 2759, 2767, 2769, 2777, 2779, 2780, 2785, 2786, 2788, 2795, 2800, 2807, 2810, 2815, 2821, 2828, 2829, 2835, 2837, 2841, 2846, 2851, 2854, 2858, 2859, 2864, 2867, 2871, 2875, 2885, 2900, 2901, 2906, 2912, 2917, 2945, 2976, 2984, 2992, 3008, 3030, 3033, 3040, 3053, 3065, 3071, 3073, 3076, 3081, 3118, 3126, 3156, 3166, 3168, 3245, 3263, 3267]\n",
      "experience --> [0, 39, 56, 75, 82, 88, 113, 124, 577, 674, 965, 1136, 1331, 1462, 1773, 1790, 1819, 2051, 2065, 2068, 2077, 2085, 2097, 2117, 2123, 2127, 2128, 2129, 2151, 2154, 2164, 2204, 2210, 2213, 2216, 2220, 2223, 2237, 2239, 2245, 2259, 2263, 2270, 2281, 2288, 2302, 2304, 2314, 2316, 2327, 2335, 2351, 2362, 2369, 2374, 2390, 2399, 2425, 2429, 2443, 2446, 2455, 2478, 2505, 2546, 2629, 2632, 2634, 2754, 2755, 2759, 2767, 2778, 2780, 2786, 2788, 2794, 2795, 2800, 2807, 2810, 2818, 2821, 2828, 2835, 2837, 2840, 2846, 2851, 2854, 2859, 2862, 2867, 2875, 2885, 2896, 2901, 2912, 2917, 2945, 2975, 2976, 2977, 2982, 2990, 2992, 3008, 3030, 3033, 3040, 3063, 3064, 3065, 3073, 3081, 3104, 3166, 3168, 3229, 3245]\n",
      "salary --> [160, 225, 329, 350, 408, 483, 514, 575, 599, 652, 881, 985, 1015, 1161, 1169, 1210, 1575, 1581, 2076, 2082, 2084, 2094, 2116, 2123, 2136, 2144, 2150, 2154, 2164, 2168, 2186, 2199, 2204, 2216, 2226, 2235, 2236, 2247, 2253, 2256, 2258, 2263, 2278, 2288, 2294, 2298, 2309, 2316, 2338, 2343, 2346, 2351, 2372, 2373, 2374, 2391, 2409, 2427, 2429, 2430, 2437, 2453, 2456, 2619, 2629, 2715, 2748, 2749, 2750, 2751, 2752, 2755, 2756, 2757, 2759, 2761, 2764, 2765, 2767, 2769, 2771, 2772, 2776, 2779, 2780, 2783, 2784, 2786, 2792, 2797, 2798, 2799, 2800, 2806, 2807, 2808, 2811, 2815, 2818, 2819, 2821, 2822, 2823, 2824, 2825, 2826, 2827, 2828, 2830, 2831, 2834, 2835, 2837, 2840, 2844, 2846, 2850, 2851, 2852, 2853, 2854, 2855, 2859, 2860, 2862, 2863, 2866, 2867, 2873, 2874, 2876, 2877, 2880, 2883, 2884, 2885, 2886, 2889, 2890, 2891, 2894, 2898, 2900, 2904, 2914, 2921, 2922, 2924, 2926, 2929, 2931, 2934, 2935, 2944, 2945, 2948, 2950, 2951, 2952, 2953, 2955, 2963, 2973, 2983, 2985, 2987, 2991, 2999, 3000, 3003, 3004, 3008, 3014, 3015, 3022, 3025, 3030, 3033, 3035, 3036, 3041, 3044, 3052, 3053, 3057, 3063, 3066, 3068, 3071, 3074, 3076, 3080, 3082, 3085, 3091, 3097, 3099, 3103, 3104, 3107, 3112, 3119, 3122, 3126, 3128, 3129, 3137, 3140, 3163, 3164, 3169, 3175, 3181, 3186, 3193, 3202, 3203, 3207, 3211, 3213, 3253, 3280]\n",
      "matchingScore --> []\n",
      "engineer --> []\n"
     ]
    }
   ],
   "source": [
    "def detect_outlier(feature):\n",
    "    Q1 = feature.quantile(0.25)\n",
    "    Q3 = feature.quantile(0.75)\n",
    "    \n",
    "    IQR = Q3-Q1\n",
    "    \n",
    "    lower_bound = Q1-(1.5*IQR)\n",
    "    upper_bound = Q3+(1.5*IQR)\n",
    "    \n",
    "    return feature.index[(feature<lower_bound)|(feature>upper_bound)].tolist()\n",
    "    \n",
    "for col in numerical_col:\n",
    "    print(col,'-->',detect_outlier(df[col]))   "
   ]
  },
  {
   "cell_type": "markdown",
   "metadata": {},
   "source": [
    "## 3. Data Preprocessing"
   ]
  },
  {
   "cell_type": "code",
   "execution_count": 20,
   "metadata": {},
   "outputs": [],
   "source": [
    "for col in numerical_col:\n",
    "    indx = detect_outlier(df[col])\n",
    "    df[col].loc[indx] = df[col].median()"
   ]
  },
  {
   "cell_type": "markdown",
   "metadata": {},
   "source": [
    "## 4. Data Modeling"
   ]
  },
  {
   "cell_type": "markdown",
   "metadata": {},
   "source": [
    "## 5. Data Validation"
   ]
  },
  {
   "cell_type": "markdown",
   "metadata": {},
   "source": [
    "## 6. Data Communication"
   ]
  }
 ],
 "metadata": {
  "kernelspec": {
   "display_name": "Python 3",
   "language": "python",
   "name": "python3"
  },
  "language_info": {
   "codemirror_mode": {
    "name": "ipython",
    "version": 3
   },
   "file_extension": ".py",
   "mimetype": "text/x-python",
   "name": "python",
   "nbconvert_exporter": "python",
   "pygments_lexer": "ipython3",
   "version": "3.7.3"
  }
 },
 "nbformat": 4,
 "nbformat_minor": 2
}
